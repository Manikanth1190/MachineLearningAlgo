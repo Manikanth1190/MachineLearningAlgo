{
 "cells": [
  {
   "cell_type": "code",
   "execution_count": 68,
   "metadata": {
    "collapsed": true
   },
   "outputs": [],
   "source": [
    "import numpy as np\n",
    "from matplotlib import pyplot as plt\n",
    "import pandas as pd"
   ]
  },
  {
   "cell_type": "code",
   "execution_count": 223,
   "metadata": {
    "collapsed": false
   },
   "outputs": [],
   "source": [
    "inputX = pd.read_csv('q2x.dat',sep=\"  \",header=None, engine = 'python')\n",
    "X = inputX.as_matrix()"
   ]
  },
  {
   "cell_type": "code",
   "execution_count": 224,
   "metadata": {
    "collapsed": false
   },
   "outputs": [],
   "source": [
    "X = np.insert(X,0,1,axis=1)\n",
    "X = np.asmatrix(X)"
   ]
  },
  {
   "cell_type": "code",
   "execution_count": 225,
   "metadata": {
    "collapsed": false
   },
   "outputs": [],
   "source": [
    "mean1=0\n",
    "i=0\n",
    "for i in range(0,len(Y)):\n",
    "    mean1 = mean1 + X[i,1]\n",
    "mean1 = mean1/len(Y)\n",
    "mean2=0\n",
    "i=0\n",
    "for i in range(0,len(Y)):\n",
    "    mean2 = mean2 + X[i,2]\n",
    "mean2 = mean2/len(Y)\n",
    "\n",
    "var1 = 0\n",
    "i=0\n",
    "for i in range(0,len(Y)):\n",
    "    var1 = var1 + pow(X[i,1]-mean1,2)\n",
    "var1 = var1/len(Y)\n",
    "pow(var1,0.5)\n",
    "\n",
    "var2 = 0\n",
    "i=0\n",
    "for i in range(0,len(Y)):\n",
    "    var2 = var2 + pow(X[i,2]-mean2,2)\n",
    "var2 = var2/len(Y)\n",
    "pow(var2,0.5)\n",
    "i=0\n",
    "for i in range(0,len(Y)):\n",
    "    X[i,1] = (X[i,1]-mean1)/var1\n",
    "    X[i,2] = (X[i,2]-mean2)/var2"
   ]
  },
  {
   "cell_type": "code",
   "execution_count": 226,
   "metadata": {
    "collapsed": false
   },
   "outputs": [],
   "source": [
    "inputY = pd.read_csv('q2y.dat',sep=\"  \",header=None, engine = 'python')\n",
    "Y = inputY.as_matrix()\n",
    "Y = np.asmatrix(Y)"
   ]
  },
  {
   "cell_type": "code",
   "execution_count": 235,
   "metadata": {
    "collapsed": false
   },
   "outputs": [],
   "source": [
    "theta = np.matrix([[0],[0],[0]])\n",
    "fx = lambda Xi:  Xi*theta\n",
    "hypoth = lambda i: 1/(1+np.exp(-fx(X[i])[0,0]))"
   ]
  },
  {
   "cell_type": "code",
   "execution_count": 247,
   "metadata": {
    "collapsed": true
   },
   "outputs": [],
   "source": [
    "#after evaluating Hessian\n",
    "def Hessian(i):\n",
    "    #H=np.matrix([[-X[i,0]*X[i,0],-X[i,0]*X[i,1],-X[i,0]*X[i,2]],[-X[i,1]*X[i,0],-X[i,1]*X[i,1],-X[i,1]*X[i,2]],[-X[i,2]*X[i,0],-X[i,2]*X[i,1],-X[i,2]*X[i,2]]])\n",
    "    j = 0 \n",
    "    H = np.matrix([[0,0,0],[0,0,0],[0,0,0]])\n",
    "    for j in range(0,len(Y)):\n",
    "        H = H + hypoth(i)*(1-hypoth(i))*np.transpose(X[i])*X[i]\n",
    "    H = H/len(Y)\n",
    "    return H"
   ]
  },
  {
   "cell_type": "code",
   "execution_count": 248,
   "metadata": {
    "collapsed": true
   },
   "outputs": [],
   "source": [
    "def HessianInv(H):\n",
    "    HI = np.linalg.inv(H)\n",
    "    return HI"
   ]
  },
  {
   "cell_type": "code",
   "execution_count": 249,
   "metadata": {
    "collapsed": false
   },
   "outputs": [
    {
     "data": {
      "text/plain": [
       "matrix([[ nan,  nan,  nan],\n",
       "        [ nan,  nan,  nan],\n",
       "        [ nan,  nan,  nan]])"
      ]
     },
     "execution_count": 249,
     "metadata": {},
     "output_type": "execute_result"
    }
   ],
   "source": [
    "i=0\n",
    "Hessian(0)"
   ]
  },
  {
   "cell_type": "code",
   "execution_count": 239,
   "metadata": {
    "collapsed": false
   },
   "outputs": [],
   "source": [
    "thetaPrev = theta\n",
    "i = 0\n",
    "j=1\n",
    "while j in range (1,2):\n",
    "    i = 0\n",
    "    thetaprev=theta\n",
    "    for i in range(0,len(Y)-1):\n",
    "        theta = theta - HessianInv(Hessian(i))*(Y[i]-hypoth(i))[0,0]*(np.transpose(X[i]))/(hypoth(i)*(1-hypoth(i)))\n",
    "    #if(np.linalg.norm(thetaPrev-theta,1) < 0.01):\n",
    "        #break\n",
    "    j= j+1"
   ]
  },
  {
   "cell_type": "code",
   "execution_count": 240,
   "metadata": {
    "collapsed": false
   },
   "outputs": [
    {
     "data": {
      "text/plain": [
       "matrix([[ nan],\n",
       "        [ nan],\n",
       "        [ nan]])"
      ]
     },
     "execution_count": 240,
     "metadata": {},
     "output_type": "execute_result"
    }
   ],
   "source": [
    "theta"
   ]
  },
  {
   "cell_type": "code",
   "execution_count": 250,
   "metadata": {
    "collapsed": true
   },
   "outputs": [],
   "source": [
    "x2 = lambda x1 : -(theta[0,0]/theta[2,0]) - theta[1,0]*x1/theta[2,0]"
   ]
  },
  {
   "cell_type": "code",
   "execution_count": 251,
   "metadata": {
    "collapsed": false,
    "scrolled": true
   },
   "outputs": [
    {
     "data": {
      "image/png": "[encoded data removed]",
      "text/plain": [
       "<matplotlib.figure.Figure at 0xb4a4978>"
      ]
     },
     "metadata": {},
     "output_type": "display_data"
    }
   ],
   "source": [
    "for i in range(0,len(X)-1):\n",
    "    if(Y[i]==1):\n",
    "        plt.plot(X[i,1],X[i,2],'g^')\n",
    "    else:\n",
    "        plt.plot(X[i,1],X[i,2],'go')\n",
    "plt.plot(X[:,1],x2(X[:,1]))\n",
    "plt.show()"
   ]
  },
  {
   "cell_type": "code",
   "execution_count": null,
   "metadata": {
    "collapsed": true
   },
   "outputs": [],
   "source": []
  }
 ],
 "metadata": {
  "anaconda-cloud": {},
  "kernelspec": {
   "display_name": "Python [conda root]",
   "language": "python",
   "name": "conda-root-py"
  },
  "language_info": {
   "codemirror_mode": {
    "name": "ipython",
    "version": 3
   },
   "file_extension": ".py",
   "mimetype": "text/x-python",
   "name": "python",
   "nbconvert_exporter": "python",
   "pygments_lexer": "ipython3",
   "version": "3.5.2"
  }
 },
 "nbformat": 4,
 "nbformat_minor": 1
}
