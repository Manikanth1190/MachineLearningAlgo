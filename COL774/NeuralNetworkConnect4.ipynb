{
 "cells": [
  {
   "cell_type": "code",
   "execution_count": 8,
   "metadata": {
    "collapsed": true
   },
   "outputs": [],
   "source": [
    "import numpy as np\n",
    "from matplotlib import pyplot as plt\n",
    "import pandas as pd\n",
    "from random import seed\n",
    "from random import random\n",
    "from math import exp"
   ]
  },
  {
   "cell_type": "code",
   "execution_count": 2,
   "metadata": {
    "collapsed": true
   },
   "outputs": [],
   "source": [
    "#read input\n",
    "inputX = pd.read_table('train.data',delimiter=',',header=-1)\n",
    "X = inputX.as_matrix()"
   ]
  },
  {
   "cell_type": "code",
   "execution_count": 3,
   "metadata": {
    "collapsed": false
   },
   "outputs": [
    {
     "data": {
      "text/plain": [
       "array([[0, 0, 1, ..., 0, 1, 'win'],\n",
       "       [0, 0, 1, ..., 0, 1, 'win'],\n",
       "       [0, 0, 1, ..., 0, 1, 'win'],\n",
       "       ..., \n",
       "       [0, 0, 1, ..., 0, 1, 'win'],\n",
       "       [0, 1, 0, ..., 0, 1, 'win'],\n",
       "       [0, 1, 0, ..., 0, 1, 'win']], dtype=object)"
      ]
     },
     "execution_count": 3,
     "metadata": {},
     "output_type": "execute_result"
    }
   ],
   "source": [
    "X"
   ]
  },
  {
   "cell_type": "code",
   "execution_count": 40,
   "metadata": {
    "collapsed": false,
    "scrolled": true
   },
   "outputs": [],
   "source": [
    "Y = X[:,126]\n",
    "Expectation = np.zeros(shape=(50000,3))"
   ]
  },
  {
   "cell_type": "code",
   "execution_count": 48,
   "metadata": {
    "collapsed": false
   },
   "outputs": [
    {
     "data": {
      "text/plain": [
       "0.0"
      ]
     },
     "execution_count": 48,
     "metadata": {},
     "output_type": "execute_result"
    }
   ],
   "source": [
    "Expectation[1,1]"
   ]
  },
  {
   "cell_type": "code",
   "execution_count": 47,
   "metadata": {
    "collapsed": false
   },
   "outputs": [],
   "source": [
    "for i in range(1,50000):\n",
    "    if(Y[i-1] == 'win'):\n",
    "        Expectation[i-1,0] = 1\n",
    "    if(Y[i-1] == 'lose'):\n",
    "        Expectation[i-1,1] = 1\n",
    "    if(Y[i-1] == 'draw'):\n",
    "        Expectation[i-1,2] = 1"
   ]
  },
  {
   "cell_type": "code",
   "execution_count": 52,
   "metadata": {
    "collapsed": false
   },
   "outputs": [],
   "source": [
    "def initHiddenLayer(nCount,hCount,oCount):\n",
    "    hiddenLayer = [{'weights':[random() for i in range(nCount + 1)]} for i in range(hCount)]\n",
    "    return hiddenLayer\n",
    "def initOutputLayer(nCount,hCount,oCount):\n",
    "    outputLayer = [{'weights':[random() for i in range(hCount + 1)]} for i in range(oCount)]\n",
    "    return outputLayer"
   ]
  },
  {
   "cell_type": "code",
   "execution_count": 53,
   "metadata": {
    "collapsed": false
   },
   "outputs": [],
   "source": [
    "hiddenLayer = initHiddenLayer(126,100,3)\n",
    "outputLayer = initOutputLayer(126,100,3)"
   ]
  },
  {
   "cell_type": "code",
   "execution_count": null,
   "metadata": {
    "collapsed": true
   },
   "outputs": [],
   "source": [
    "def activation(w,x):\n",
    "    activationValue = w[-1]\n",
    "    for i in range(len(w)-1):\n",
    "        activationValue += w[i]*x[i]\n",
    "    return activationValue"
   ]
  },
  {
   "cell_type": "code",
   "execution_count": null,
   "metadata": {
    "collapsed": true
   },
   "outputs": [],
   "source": [
    "def"
   ]
  }
 ],
 "metadata": {
  "anaconda-cloud": {},
  "kernelspec": {
   "display_name": "Python [conda root]",
   "language": "python",
   "name": "conda-root-py"
  },
  "language_info": {
   "codemirror_mode": {
    "name": "ipython",
    "version": 3
   },
   "file_extension": ".py",
   "mimetype": "text/x-python",
   "name": "python",
   "nbconvert_exporter": "python",
   "pygments_lexer": "ipython3",
   "version": "3.5.2"
  }
 },
 "nbformat": 4,
 "nbformat_minor": 1
}
