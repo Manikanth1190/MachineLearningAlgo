{
 "cells": [
  {
   "cell_type": "code",
   "execution_count": 76,
   "metadata": {
    "collapsed": false
   },
   "outputs": [],
   "source": [
    "import numpy as np\n",
    "from matplotlib import pyplot as plt\n",
    "import pandas as pd\n",
    "import math"
   ]
  },
  {
   "cell_type": "code",
   "execution_count": 77,
   "metadata": {
    "collapsed": true
   },
   "outputs": [],
   "source": [
    "ClassNumber = {'acq': 1,\n",
    " 'crude': 2,\n",
    " 'earn': 3,\n",
    " 'grain': 4,\n",
    " 'interest': 5,\n",
    " 'money-fx': 6,\n",
    " 'ship': 7,\n",
    " 'trade': 0}"
   ]
  },
  {
   "cell_type": "code",
   "execution_count": 78,
   "metadata": {
    "collapsed": false
   },
   "outputs": [],
   "source": [
    "def addClass(currentClass):\n",
    "    val = ClassDict.get(ClassNumber[currentClass])\n",
    "    if(val != None):\n",
    "        ClassDict[ClassNumber[currentClass]] = val+1\n",
    "    else:\n",
    "        tempDict = {ClassNumber[currentClass]:1}\n",
    "        ClassDict.update(tempDict)\n",
    "        tempDict = {ClassNumber[currentClass]:0}\n",
    "        ClassWordCount.update(tempDict)"
   ]
  },
  {
   "cell_type": "code",
   "execution_count": 79,
   "metadata": {
    "collapsed": false
   },
   "outputs": [],
   "source": [
    "def addWordToVocab(word,currentClass):\n",
    "    val = vocabDict.get(word)\n",
    "    if(val==None):\n",
    "        countMat = np.matrix([[0.00],[0.00],[0.00],[0.00],[0.00],[0.00],[0.00],[0.00]])\n",
    "        countMat[ClassNumber[currentClass]] = 1.00\n",
    "        tempDict = {word:countMat}\n",
    "        vocabDict.update(tempDict)\n",
    "        countMat = np.matrix([[0.00],[0.00],[0.00],[0.00],[0.00],[0.00],[0.00],[0.00]])\n",
    "        countMat[ClassNumber[currentClass]] = 1.00\n",
    "        tempDict = {word:countMat}\n",
    "        vocabProb.update(tempDict)\n",
    "    else:\n",
    "        countMat = val\n",
    "        countMat[ClassNumber[currentClass]] = countMat[ClassNumber[currentClass]] + 1.00\n",
    "        vocabDict[word] = countMat\n",
    "        countMat = vocabProb.get(word)\n",
    "        countMat[ClassNumber[currentClass]] = countMat[ClassNumber[currentClass]] + 1.00\n",
    "        vocabProb[word] = countMat\n",
    "    ClassWordCount[ClassNumber[currentClass]] = ClassWordCount[ClassNumber[currentClass]] + 1.00"
   ]
  },
  {
   "cell_type": "code",
   "execution_count": 80,
   "metadata": {
    "collapsed": false
   },
   "outputs": [],
   "source": [
    "Classes = []"
   ]
  },
  {
   "cell_type": "code",
   "execution_count": 81,
   "metadata": {
    "collapsed": false
   },
   "outputs": [],
   "source": [
    "ClassDict = {}\n",
    "ClassWordCount = {}"
   ]
  },
  {
   "cell_type": "code",
   "execution_count": 82,
   "metadata": {
    "collapsed": true
   },
   "outputs": [],
   "source": [
    "vocabDict = {}\n",
    "vocabProb = {}\n",
    "sampleCount = 0\n",
    "vocabLen = 0"
   ]
  },
  {
   "cell_type": "code",
   "execution_count": 83,
   "metadata": {
    "collapsed": false
   },
   "outputs": [
    {
     "name": "stderr",
     "output_type": "stream",
     "text": [
      "C:\\Program Files\\Anaconda3\\lib\\site-packages\\ipykernel\\__main__.py:3: FutureWarning: comparison to `None` will result in an elementwise object comparison in the future.\n",
      "  app.launch_new_instance()\n"
     ]
    }
   ],
   "source": [
    "with open(\"r8-train-all-terms-new.txt\",'r') as f:\n",
    "    for line in f:\n",
    "        c = 0\n",
    "        sampleCount = sampleCount + 1\n",
    "        currentClass = \"\"\n",
    "        for word in line.lower().split():\n",
    "            vocabLen = vocabLen+1\n",
    "            if(c==0):\n",
    "                currentClass = word\n",
    "                Classes.append(currentClass)\n",
    "                addClass(currentClass)      \n",
    "            else:\n",
    "                addWordToVocab(word,currentClass)\n",
    "            c=c+1\n",
    "    f.close()"
   ]
  },
  {
   "cell_type": "code",
   "execution_count": 84,
   "metadata": {
    "collapsed": false
   },
   "outputs": [
    {
     "data": {
      "text/plain": [
       "5485"
      ]
     },
     "execution_count": 84,
     "metadata": {},
     "output_type": "execute_result"
    }
   ],
   "source": [
    "len(Classes)"
   ]
  },
  {
   "cell_type": "code",
   "execution_count": 85,
   "metadata": {
    "collapsed": false
   },
   "outputs": [
    {
     "data": {
      "text/plain": [
       "5485"
      ]
     },
     "execution_count": 85,
     "metadata": {},
     "output_type": "execute_result"
    }
   ],
   "source": [
    "sampleCount"
   ]
  },
  {
   "cell_type": "code",
   "execution_count": 86,
   "metadata": {
    "collapsed": false
   },
   "outputs": [],
   "source": [
    "for key in vocabProb.keys():\n",
    "    val = vocabProb[key]\n",
    "    val[0] = math.log(val[0] + 1)- math.log(ClassWordCount[0]+vocabLen)\n",
    "    val[1] = math.log(val[1] + 1)- math.log(ClassWordCount[1]+vocabLen)\n",
    "    val[2] = math.log(val[2] + 1)- math.log(ClassWordCount[2]+vocabLen)\n",
    "    val[3] = math.log(val[3] + 1)- math.log(ClassWordCount[3]+vocabLen)\n",
    "    val[4] = math.log(val[4] + 1)- math.log(ClassWordCount[4]+vocabLen)\n",
    "    val[5] = math.log(val[5] + 1)- math.log(ClassWordCount[5]+vocabLen)\n",
    "    val[6] = math.log(val[6] + 1)- math.log(ClassWordCount[6]+vocabLen)\n",
    "    val[7] = math.log(val[7] + 1)- math.log(ClassWordCount[7]+vocabLen)"
   ]
  },
  {
   "cell_type": "code",
   "execution_count": 87,
   "metadata": {
    "collapsed": false,
    "scrolled": true
   },
   "outputs": [
    {
     "ename": "KeyError",
     "evalue": "'extending'",
     "output_type": "error",
     "traceback": [
      "\u001b[0;31m---------------------------------------------------------------------------\u001b[0m",
      "\u001b[0;31mKeyError\u001b[0m                                  Traceback (most recent call last)",
      "\u001b[0;32m<ipython-input-87-4401021f97a2>\u001b[0m in \u001b[0;36m<module>\u001b[0;34m()\u001b[0m\n\u001b[0;32m----> 1\u001b[0;31m \u001b[0mprint\u001b[0m\u001b[1;33m(\u001b[0m\u001b[0mvocabProb\u001b[0m\u001b[1;33m[\u001b[0m\u001b[1;34m\"extending\"\u001b[0m\u001b[1;33m]\u001b[0m\u001b[1;33m)\u001b[0m\u001b[1;33m\u001b[0m\u001b[0m\n\u001b[0m\u001b[1;32m      2\u001b[0m \u001b[0mprint\u001b[0m\u001b[1;33m(\u001b[0m\u001b[0mvocabDict\u001b[0m\u001b[1;33m[\u001b[0m\u001b[1;34m\"extending\"\u001b[0m\u001b[1;33m]\u001b[0m\u001b[1;33m)\u001b[0m\u001b[1;33m\u001b[0m\u001b[0m\n",
      "\u001b[0;31mKeyError\u001b[0m: 'extending'"
     ]
    }
   ],
   "source": [
    "print(vocabProb[\"extending\"])\n",
    "print(vocabDict[\"extending\"])"
   ]
  },
  {
   "cell_type": "code",
   "execution_count": 88,
   "metadata": {
    "collapsed": false
   },
   "outputs": [],
   "source": [
    "prediction = np.matrix([[1.00],[1.00],[1.00],[1.00],[1.00],[1.00],[1.00],[1.00]])\n",
    "outputClass = []"
   ]
  },
  {
   "cell_type": "code",
   "execution_count": 89,
   "metadata": {
    "collapsed": false
   },
   "outputs": [
    {
     "data": {
      "text/plain": [
       "0.0"
      ]
     },
     "execution_count": 89,
     "metadata": {},
     "output_type": "execute_result"
    }
   ],
   "source": [
    "math.log(prediction[0,0])"
   ]
  },
  {
   "cell_type": "code",
   "execution_count": 97,
   "metadata": {
    "collapsed": false
   },
   "outputs": [
    {
     "name": "stderr",
     "output_type": "stream",
     "text": [
      "C:\\Program Files\\Anaconda3\\lib\\site-packages\\ipykernel\\__main__.py:15: FutureWarning: comparison to `None` will result in an elementwise object comparison in the future.\n"
     ]
    }
   ],
   "source": [
    "#Prediction\n",
    "predictionMatrix = []\n",
    "outputClass = []\n",
    "with open(\"r8-test-all-terms-new.txt\",'r') as f:\n",
    "    for line in f:\n",
    "        prediction = np.matrix([[0.00],[0.00],[0.00],[0.00],[0.00],[0.00],[0.00],[0.00]])\n",
    "        currentClass = \"\"\n",
    "        c=0\n",
    "        for word in line.lower().split():\n",
    "            if(c==0):\n",
    "                currentClass = word\n",
    "                outputClass.append(currentClass)\n",
    "                #addClass(currentClass)\n",
    "            else:\n",
    "                if(vocabProb.get(word) != None):\n",
    "                    prob = vocabProb[word]\n",
    "                    prediction[0] = prediction[0]+prob[0]\n",
    "                    prediction[1] = prediction[1]+prob[1]\n",
    "                    prediction[2] = prediction[2]+prob[2]\n",
    "                    prediction[3] = prediction[3]+prob[3]\n",
    "                    prediction[4] = prediction[4]+prob[4]\n",
    "                    prediction[5] = prediction[5]+prob[5]\n",
    "                    prediction[6] = prediction[6]+prob[6]\n",
    "                    prediction[7] = prediction[7]+prob[7]\n",
    "            c=c+1\n",
    "        prediction[0] = prediction[0]+math.log(ClassDict[0]/sampleCount)\n",
    "        prediction[1] = prediction[1]+math.log(ClassDict[1]/sampleCount)\n",
    "        prediction[2] = prediction[2]+math.log(ClassDict[2]/sampleCount)\n",
    "        prediction[3] = prediction[3]+math.log(ClassDict[3]/sampleCount)\n",
    "        prediction[4] = prediction[4]+math.log(ClassDict[4]/sampleCount)\n",
    "        prediction[5] = prediction[5]+math.log(ClassDict[5]/sampleCount)\n",
    "        prediction[6] = prediction[6]+math.log(ClassDict[6]/sampleCount)\n",
    "        prediction[7] = prediction[7]+math.log(ClassDict[7]/sampleCount)\n",
    "        predictionMatrix.append(prediction)\n",
    "    f.close()"
   ]
  },
  {
   "cell_type": "code",
   "execution_count": 98,
   "metadata": {
    "collapsed": false,
    "scrolled": true
   },
   "outputs": [
    {
     "name": "stdout",
     "output_type": "stream",
     "text": [
      "[[-4265.68436198]\n",
      " [-4361.80057662]\n",
      " [-4715.52488782]\n",
      " [-4537.13180423]\n",
      " [-5360.83203134]\n",
      " [-5055.11110108]\n",
      " [-4765.44656109]\n",
      " [-5156.53636797]]\n"
     ]
    }
   ],
   "source": [
    "print(predictionMatrix[0])"
   ]
  },
  {
   "cell_type": "code",
   "execution_count": 99,
   "metadata": {
    "collapsed": false
   },
   "outputs": [
    {
     "data": {
      "text/plain": [
       "matrix([[-4265.68436198]])"
      ]
     },
     "execution_count": 99,
     "metadata": {},
     "output_type": "execute_result"
    }
   ],
   "source": [
    "predictionMatrix[0][0]"
   ]
  },
  {
   "cell_type": "code",
   "execution_count": 100,
   "metadata": {
    "collapsed": false
   },
   "outputs": [],
   "source": [
    "Output = []\n",
    "for i in range(0,len(predictionMatrix)):\n",
    "    o = 'NA'\n",
    "    m = max(predictionMatrix[i])\n",
    "    if(m==predictionMatrix[i][0]):\n",
    "        o='trade'\n",
    "    if(m==predictionMatrix[i][1]):\n",
    "        o='acq'\n",
    "    if(m==predictionMatrix[i][2]):\n",
    "        o='crude'\n",
    "    if(m==predictionMatrix[i][3]):\n",
    "        o='earn'\n",
    "    if(m==predictionMatrix[i][4]):\n",
    "        o='grain'\n",
    "    if(m==predictionMatrix[i][5]):\n",
    "        o='interest'\n",
    "    if(m==predictionMatrix[i][6]):\n",
    "        o='money-fx'\n",
    "    if(m==predictionMatrix[i][7]):\n",
    "        o='ship'\n",
    "    Output.append(o)"
   ]
  },
  {
   "cell_type": "code",
   "execution_count": 101,
   "metadata": {
    "collapsed": false,
    "scrolled": false
   },
   "outputs": [],
   "source": [
    "text_file = open(\"OutputTest-new.txt\", \"w\")\n",
    "for k in range(0,len(Output)):\n",
    "    text_file.write(Output[k]+'\\n')\n",
    "text_file.close()"
   ]
  },
  {
   "cell_type": "code",
   "execution_count": 102,
   "metadata": {
    "collapsed": false
   },
   "outputs": [],
   "source": [
    "correct = 0\n",
    "wrong = 0\n",
    "for k in range(0,len(Output)):\n",
    "    if(Output[k]==outputClass[k]):\n",
    "        correct = correct + 1\n",
    "    else:\n",
    "        wrong = wrong +1"
   ]
  },
  {
   "cell_type": "code",
   "execution_count": 103,
   "metadata": {
    "collapsed": false,
    "scrolled": true
   },
   "outputs": [
    {
     "name": "stdout",
     "output_type": "stream",
     "text": [
      "1923\n",
      "266\n"
     ]
    }
   ],
   "source": [
    "print(correct)\n",
    "print(wrong)"
   ]
  },
  {
   "cell_type": "code",
   "execution_count": null,
   "metadata": {
    "collapsed": true
   },
   "outputs": [],
   "source": []
  }
 ],
 "metadata": {
  "anaconda-cloud": {},
  "kernelspec": {
   "display_name": "Python [conda root]",
   "language": "python",
   "name": "conda-root-py"
  },
  "language_info": {
   "codemirror_mode": {
    "name": "ipython",
    "version": 3
   },
   "file_extension": ".py",
   "mimetype": "text/x-python",
   "name": "python",
   "nbconvert_exporter": "python",
   "pygments_lexer": "ipython3",
   "version": "3.5.2"
  }
 },
 "nbformat": 4,
 "nbformat_minor": 1
}
