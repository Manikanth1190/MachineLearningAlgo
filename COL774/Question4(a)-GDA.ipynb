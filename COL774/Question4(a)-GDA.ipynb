{
 "cells": [
  {
   "cell_type": "code",
   "execution_count": 1,
   "metadata": {
    "collapsed": true
   },
   "outputs": [],
   "source": [
    "import numpy as np\n",
    "from matplotlib import pyplot as plt\n",
    "import pandas as pd"
   ]
  },
  {
   "cell_type": "code",
   "execution_count": 2,
   "metadata": {
    "collapsed": true
   },
   "outputs": [],
   "source": [
    "inputX = pd.read_csv('q4x.dat',sep=\"  \",header=None, engine = 'python')\n",
    "X = inputX.as_matrix()\n",
    "X = np.insert(X,0,1,axis=1)\n",
    "X = np.asmatrix(X)\n",
    "inputY = pd.read_csv('q4y.dat',sep=\"  \",header=None, engine = 'python')\n",
    "Y = inputY.as_matrix()\n",
    "Y = np.asmatrix(Y)"
   ]
  },
  {
   "cell_type": "code",
   "execution_count": 3,
   "metadata": {
    "collapsed": true
   },
   "outputs": [],
   "source": [
    "count0 = 0\n",
    "count1 = 0\n",
    "for i in range(0, len(Y)-1):\n",
    "    if(Y[i,0]=='Alaska'):\n",
    "        count1+=1\n",
    "count0 = len(Y)-count1"
   ]
  },
  {
   "cell_type": "code",
   "execution_count": 4,
   "metadata": {
    "collapsed": false
   },
   "outputs": [],
   "source": [
    "phi = count1/len(Y)"
   ]
  },
  {
   "cell_type": "code",
   "execution_count": 5,
   "metadata": {
    "collapsed": false
   },
   "outputs": [],
   "source": [
    "Mean0 = np.matrix([[0],[0],[0]])\n",
    "Mean1 = np.matrix([[0],[0],[0]])\n",
    "for i in range(0,len(Y)-1):\n",
    "    if(Y[i,0]=='Canada'):\n",
    "        Mean0 = Mean0 + np.transpose(X[i])\n",
    "    else:\n",
    "        Mean1 = Mean1 + np.transpose(X[i])\n",
    "Mean0 = Mean0/count0\n",
    "Mean1 = Mean1/count1"
   ]
  },
  {
   "cell_type": "code",
   "execution_count": 6,
   "metadata": {
    "collapsed": false
   },
   "outputs": [
    {
     "data": {
      "text/plain": [
       "matrix([[   0.98],\n",
       "        [ 135.3 ],\n",
       "        [ 359.84]])"
      ]
     },
     "execution_count": 6,
     "metadata": {},
     "output_type": "execute_result"
    }
   ],
   "source": [
    "Mean0"
   ]
  },
  {
   "cell_type": "code",
   "execution_count": 7,
   "metadata": {
    "collapsed": false
   },
   "outputs": [],
   "source": [
    "COV = np.matrix([[0,0,0],[0,0,0],[0,0,0]])\n"
   ]
  },
  {
   "cell_type": "code",
   "execution_count": 8,
   "metadata": {
    "collapsed": false
   },
   "outputs": [],
   "source": [
    "for i in range(0,len(Y)):\n",
    "    if(Y[i,0]=='Canada'):\n",
    "        COV = COV+(X[i]-Mean0)*np.linalg.inv(X[i]-Mean0)\n",
    "    else:\n",
    "        COV = COV+(X[i]-Mean1)*np.linalg.inv(X[i]-Mean1)\n",
    "COV = COV/len(Y)"
   ]
  },
  {
   "cell_type": "code",
   "execution_count": 9,
   "metadata": {
    "collapsed": false
   },
   "outputs": [
    {
     "data": {
      "text/plain": [
       "matrix([[-0.56654451, -0.73251209, -0.15608315],\n",
       "        [ 0.31614622, -0.257586  ,  0.39371712],\n",
       "        [-4.29697022,  1.88995428,  2.43134084]])"
      ]
     },
     "execution_count": 9,
     "metadata": {},
     "output_type": "execute_result"
    }
   ],
   "source": [
    "COV"
   ]
  },
  {
   "cell_type": "code",
   "execution_count": 10,
   "metadata": {
    "collapsed": false
   },
   "outputs": [
    {
     "data": {
      "image/png": "[encoded data removed]",
      "text/plain": [
       "<matplotlib.figure.Figure at 0x91d0ef0>"
      ]
     },
     "metadata": {},
     "output_type": "display_data"
    }
   ],
   "source": [
    "for i in range(0,len(X)-1):\n",
    "    if(Y[i]=='Alaska'):\n",
    "        plt.plot(X[i,1],X[i,2],'g^')\n",
    "    else:\n",
    "        plt.plot(X[i,1],X[i,2],'go')\n",
    "plt.show()"
   ]
  },
  {
   "cell_type": "code",
   "execution_count": 11,
   "metadata": {
    "collapsed": false
   },
   "outputs": [
    {
     "data": {
      "text/plain": [
       "0.5"
      ]
     },
     "execution_count": 11,
     "metadata": {},
     "output_type": "execute_result"
    }
   ],
   "source": [
    "phi"
   ]
  },
  {
   "cell_type": "code",
   "execution_count": 12,
   "metadata": {
    "collapsed": false
   },
   "outputs": [
    {
     "data": {
      "text/plain": [
       "matrix([[-0.51553311,  0.55902499, -0.12362057],\n",
       "        [-0.92560984, -0.77050355,  0.06535009],\n",
       "        [-0.19161038,  1.58691457,  0.14201933]])"
      ]
     },
     "execution_count": 12,
     "metadata": {},
     "output_type": "execute_result"
    }
   ],
   "source": [
    "COV_inv = np.linalg.inv(COV)\n",
    "COV_inv"
   ]
  },
  {
   "cell_type": "code",
   "execution_count": 21,
   "metadata": {
    "collapsed": false
   },
   "outputs": [
    {
     "data": {
      "text/plain": [
       "matrix([[-0.56654451, -0.73251209, -0.15608315],\n",
       "        [ 0.31614622, -0.257586  ,  0.39371712],\n",
       "        [-4.29697022,  1.88995428,  2.43134084]])"
      ]
     },
     "execution_count": 21,
     "metadata": {},
     "output_type": "execute_result"
    }
   ],
   "source": [
    "COV"
   ]
  },
  {
   "cell_type": "code",
   "execution_count": 14,
   "metadata": {
    "collapsed": false
   },
   "outputs": [
    {
     "data": {
      "text/plain": [
       "matrix([[   1.  ],\n",
       "        [  98.38],\n",
       "        [ 429.66]])"
      ]
     },
     "execution_count": 14,
     "metadata": {},
     "output_type": "execute_result"
    }
   ],
   "source": [
    "Mean1"
   ]
  },
  {
   "cell_type": "code",
   "execution_count": 15,
   "metadata": {
    "collapsed": false
   },
   "outputs": [],
   "source": [
    "a1 = 0.98\n",
    "b1 = 135.3\n",
    "c1 = 359.84\n",
    "a2 = 1.00\n",
    "b2=98.38\n",
    "c2 = 429.66\n",
    "t11 = COV_inv[0,0]\n",
    "t12 = COV_inv[0,1]\n",
    "t13 = COV_inv[0,2]\n",
    "t21 = COV_inv[1,0]\n",
    "t22 =  COV_inv[1,1]\n",
    "t23 =  COV_inv[1,2]\n",
    "t31 =  COV_inv[2,0]\n",
    "t32 = COV_inv[2,1]\n",
    "t33 = COV_inv[2,2]"
   ]
  },
  {
   "cell_type": "code",
   "execution_count": 16,
   "metadata": {
    "collapsed": false
   },
   "outputs": [
    {
     "data": {
      "text/plain": [
       "41.176336052583068"
      ]
     },
     "execution_count": 16,
     "metadata": {},
     "output_type": "execute_result"
    }
   ],
   "source": [
    "d = t32*b1-t32*b2+t23*b1 - t23*b2+2*t33*c1 - 2*t33*c2 + t31*a1 - t31*a2 + t13*a1 - t13*a2\n",
    "d"
   ]
  },
  {
   "cell_type": "code",
   "execution_count": 17,
   "metadata": {
    "collapsed": false
   },
   "outputs": [
    {
     "data": {
      "text/plain": [
       "172.24776924170442"
      ]
     },
     "execution_count": 17,
     "metadata": {},
     "output_type": "execute_result"
    }
   ],
   "source": [
    "x1c = t21*a2 - t21*a1 + t12*a2 - t12*a1 + 2*t22*b2-2*t22*b1 + t32*c2 - t32*c1+t23*c2 - t23*c1\n",
    "x1c"
   ]
  },
  {
   "cell_type": "code",
   "execution_count": 18,
   "metadata": {
    "collapsed": false
   },
   "outputs": [
    {
     "data": {
      "text/plain": [
       "-3905.3291740155996"
      ]
     },
     "execution_count": 18,
     "metadata": {},
     "output_type": "execute_result"
    }
   ],
   "source": [
    "c = (1-a1)*(1-a1)*t11-(1-a2)*(1-a2)*t11+t21*a1*b1 - t21*a2*b2 - t12*b1+t12*b2+t12*b1*a1-t12*b2*a2 + t22*b1*b1-t22*b2*b2+t32*c1*b1-t32*c2*b2+t23*b1*c1-t23*b2*c2+t33*c1*c1-t33*c2*c2+t13*a1*c1-t13*a2*c2-t31*c1+t31*c2+t31*a1*c1-t31*a2*c2-t13*c1+t13*c2\n",
    "c"
   ]
  },
  {
   "cell_type": "code",
   "execution_count": 19,
   "metadata": {
    "collapsed": true
   },
   "outputs": [],
   "source": [
    "x2 = lambda x1: (c/d)+(x1c/d)*x1"
   ]
  },
  {
   "cell_type": "code",
   "execution_count": 20,
   "metadata": {
    "collapsed": false
   },
   "outputs": [
    {
     "data": {
      "image/png": "[encoded data removed]",
      "text/plain": [
       "<matplotlib.figure.Figure at 0x91c4518>"
      ]
     },
     "metadata": {},
     "output_type": "display_data"
    }
   ],
   "source": [
    "for i in range(0,len(X)-1):\n",
    "    if(Y[i]=='Alaska'):\n",
    "        plt.plot(X[i,1],X[i,2],'g^')\n",
    "    else:\n",
    "        plt.plot(X[i,1],X[i,2],'go')\n",
    "X1D = np.matrix([[40],[180]])\n",
    "X2D = np.matrix([[x2(40)],[x2(180)]])\n",
    "plt.plot(X1D,X2D,r'')\n",
    "plt.show()"
   ]
  },
  {
   "cell_type": "code",
   "execution_count": null,
   "metadata": {
    "collapsed": true
   },
   "outputs": [],
   "source": []
  }
 ],
 "metadata": {
  "anaconda-cloud": {},
  "kernelspec": {
   "display_name": "Python [conda root]",
   "language": "python",
   "name": "conda-root-py"
  },
  "language_info": {
   "codemirror_mode": {
    "name": "ipython",
    "version": 3
   },
   "file_extension": ".py",
   "mimetype": "text/x-python",
   "name": "python",
   "nbconvert_exporter": "python",
   "pygments_lexer": "ipython3",
   "version": "3.5.2"
  }
 },
 "nbformat": 4,
 "nbformat_minor": 1
}
