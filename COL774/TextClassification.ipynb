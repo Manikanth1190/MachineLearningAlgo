{
 "cells": [
  {
   "cell_type": "code",
   "execution_count": 44,
   "metadata": {
    "collapsed": false
   },
   "outputs": [],
   "source": [
    "import numpy as np\n",
    "from matplotlib import pyplot as plt\n",
    "import pandas as pd\n",
    "import math"
   ]
  },
  {
   "cell_type": "code",
   "execution_count": 45,
   "metadata": {
    "collapsed": true
   },
   "outputs": [],
   "source": [
    "ClassNumber = {'acq': 1,\n",
    " 'crude': 2,\n",
    " 'earn': 3,\n",
    " 'grain': 4,\n",
    " 'interest': 5,\n",
    " 'money-fx': 6,\n",
    " 'ship': 7,\n",
    " 'trade': 0}"
   ]
  },
  {
   "cell_type": "code",
   "execution_count": 46,
   "metadata": {
    "collapsed": false
   },
   "outputs": [],
   "source": [
    "def addClass(currentClass):\n",
    "    val = ClassDict.get(ClassNumber[currentClass])\n",
    "    if(val != None):\n",
    "        ClassDict[ClassNumber[currentClass]] = val+1\n",
    "    else:\n",
    "        tempDict = {ClassNumber[currentClass]:1}\n",
    "        ClassDict.update(tempDict)\n",
    "        tempDict = {ClassNumber[currentClass]:0}\n",
    "        ClassWordCount.update(tempDict)"
   ]
  },
  {
   "cell_type": "code",
   "execution_count": 47,
   "metadata": {
    "collapsed": false
   },
   "outputs": [],
   "source": [
    "def addWordToVocab(word,currentClass):\n",
    "    val = vocabDict.get(word)\n",
    "    if(val==None):\n",
    "        countMat = np.matrix([[0.00],[0.00],[0.00],[0.00],[0.00],[0.00],[0.00],[0.00]])\n",
    "        countMat[ClassNumber[currentClass]] = 1.00\n",
    "        tempDict = {word:countMat}\n",
    "        vocabDict.update(tempDict)\n",
    "        countMat = np.matrix([[0.00],[0.00],[0.00],[0.00],[0.00],[0.00],[0.00],[0.00]])\n",
    "        countMat[ClassNumber[currentClass]] = 1.00\n",
    "        tempDict = {word:countMat}\n",
    "        vocabProb.update(tempDict)\n",
    "    else:\n",
    "        countMat = val\n",
    "        countMat[ClassNumber[currentClass]] = countMat[ClassNumber[currentClass]] + 1.00\n",
    "        vocabDict[word] = countMat\n",
    "        countMat = vocabProb.get(word)\n",
    "        countMat[ClassNumber[currentClass]] = countMat[ClassNumber[currentClass]] + 1.00\n",
    "        vocabProb[word] = countMat\n",
    "    ClassWordCount[ClassNumber[currentClass]] = ClassWordCount[ClassNumber[currentClass]] + 1.00"
   ]
  },
  {
   "cell_type": "code",
   "execution_count": 48,
   "metadata": {
    "collapsed": false
   },
   "outputs": [],
   "source": [
    "Classes = []"
   ]
  },
  {
   "cell_type": "code",
   "execution_count": 49,
   "metadata": {
    "collapsed": false
   },
   "outputs": [],
   "source": [
    "ClassDict = {}\n",
    "ClassWordCount = {}"
   ]
  },
  {
   "cell_type": "code",
   "execution_count": 50,
   "metadata": {
    "collapsed": true
   },
   "outputs": [],
   "source": [
    "vocabDict = {}\n",
    "vocabProb = {}\n",
    "sampleCount = 0\n",
    "vocabLen = 0"
   ]
  },
  {
   "cell_type": "code",
   "execution_count": 51,
   "metadata": {
    "collapsed": false
   },
   "outputs": [
    {
     "name": "stderr",
     "output_type": "stream",
     "text": [
      "C:\\Program Files\\Anaconda3\\lib\\site-packages\\ipykernel\\__main__.py:3: FutureWarning: comparison to `None` will result in an elementwise object comparison in the future.\n",
      "  app.launch_new_instance()\n"
     ]
    }
   ],
   "source": [
    "with open(\"r8-train-all-terms.txt\",'r') as f:\n",
    "    for line in f:\n",
    "        c = 0\n",
    "        sampleCount = sampleCount + 1\n",
    "        currentClass = \"\"\n",
    "        for word in line.lower().split():\n",
    "            vocabLen = vocabLen+1\n",
    "            if(c==0):\n",
    "                currentClass = word\n",
    "                Classes.append(currentClass)\n",
    "                addClass(currentClass)      \n",
    "            else:\n",
    "                addWordToVocab(word,currentClass)\n",
    "            c=c+1\n",
    "    f.close()"
   ]
  },
  {
   "cell_type": "code",
   "execution_count": 52,
   "metadata": {
    "collapsed": false
   },
   "outputs": [
    {
     "data": {
      "text/plain": [
       "{0: 251, 1: 1596, 2: 253, 3: 2840, 4: 41, 5: 190, 6: 206, 7: 108}"
      ]
     },
     "execution_count": 52,
     "metadata": {},
     "output_type": "execute_result"
    }
   ],
   "source": [
    "ClassDict"
   ]
  },
  {
   "cell_type": "code",
   "execution_count": 53,
   "metadata": {
    "collapsed": false
   },
   "outputs": [
    {
     "data": {
      "text/plain": [
       "5485"
      ]
     },
     "execution_count": 53,
     "metadata": {},
     "output_type": "execute_result"
    }
   ],
   "source": [
    "sampleCount"
   ]
  },
  {
   "cell_type": "code",
   "execution_count": 54,
   "metadata": {
    "collapsed": false
   },
   "outputs": [],
   "source": [
    "for key in vocabProb.keys():\n",
    "    val = vocabProb[key]\n",
    "    val[0] = math.log(val[0] + 1)- math.log(ClassWordCount[0]+vocabLen)\n",
    "    val[1] = math.log(val[1] + 1)- math.log(ClassWordCount[1]+vocabLen)\n",
    "    val[2] = math.log(val[2] + 1)- math.log(ClassWordCount[2]+vocabLen)\n",
    "    val[3] = math.log(val[3] + 1)- math.log(ClassWordCount[3]+vocabLen)\n",
    "    val[4] = math.log(val[4] + 1)- math.log(ClassWordCount[4]+vocabLen)\n",
    "    val[5] = math.log(val[5] + 1)- math.log(ClassWordCount[5]+vocabLen)\n",
    "    val[6] = math.log(val[6] + 1)- math.log(ClassWordCount[6]+vocabLen)\n",
    "    val[7] = math.log(val[7] + 1)- math.log(ClassWordCount[7]+vocabLen)"
   ]
  },
  {
   "cell_type": "code",
   "execution_count": 55,
   "metadata": {
    "collapsed": false,
    "scrolled": true
   },
   "outputs": [
    {
     "name": "stdout",
     "output_type": "stream",
     "text": [
      "[[-12.27245322]\n",
      " [-11.16174191]\n",
      " [-12.25886432]\n",
      " [-13.56724405]\n",
      " [-13.28982845]\n",
      " [-13.31274735]\n",
      " [-13.33372904]\n",
      " [-12.20468502]]\n",
      "[[  2.]\n",
      " [ 10.]\n",
      " [  2.]\n",
      " [  0.]\n",
      " [  0.]\n",
      " [  0.]\n",
      " [  0.]\n",
      " [  2.]]\n"
     ]
    }
   ],
   "source": [
    "print(vocabProb[\"extending\"])\n",
    "print(vocabDict[\"extending\"])"
   ]
  },
  {
   "cell_type": "code",
   "execution_count": 56,
   "metadata": {
    "collapsed": false
   },
   "outputs": [],
   "source": [
    "prediction = np.matrix([[1.00],[1.00],[1.00],[1.00],[1.00],[1.00],[1.00],[1.00]])\n",
    "outputClass = []"
   ]
  },
  {
   "cell_type": "code",
   "execution_count": 57,
   "metadata": {
    "collapsed": false
   },
   "outputs": [
    {
     "data": {
      "text/plain": [
       "0.0"
      ]
     },
     "execution_count": 57,
     "metadata": {},
     "output_type": "execute_result"
    }
   ],
   "source": [
    "math.log(prediction[0,0])"
   ]
  },
  {
   "cell_type": "code",
   "execution_count": 58,
   "metadata": {
    "collapsed": false
   },
   "outputs": [
    {
     "name": "stderr",
     "output_type": "stream",
     "text": [
      "C:\\Program Files\\Anaconda3\\lib\\site-packages\\ipykernel\\__main__.py:15: FutureWarning: comparison to `None` will result in an elementwise object comparison in the future.\n"
     ]
    }
   ],
   "source": [
    "#Prediction\n",
    "predictionMatrix = []\n",
    "outputClass = []\n",
    "with open(\"r8-test-all-terms.txt\",'r') as f:\n",
    "    for line in f:\n",
    "        prediction = np.matrix([[0.00],[0.00],[0.00],[0.00],[0.00],[0.00],[0.00],[0.00]])\n",
    "        currentClass = \"\"\n",
    "        c=0\n",
    "        for word in line.lower().split():\n",
    "            if(c==0):\n",
    "                currentClass = word\n",
    "                outputClass.append(currentClass)\n",
    "                #addClass(currentClass)\n",
    "            else:\n",
    "                if(vocabProb.get(word) != None):\n",
    "                    prob = vocabProb[word]\n",
    "                    prediction[0] = prediction[0]+prob[0]\n",
    "                    prediction[1] = prediction[1]+prob[1]\n",
    "                    prediction[2] = prediction[2]+prob[2]\n",
    "                    prediction[3] = prediction[3]+prob[3]\n",
    "                    prediction[4] = prediction[4]+prob[4]\n",
    "                    prediction[5] = prediction[5]+prob[5]\n",
    "                    prediction[6] = prediction[6]+prob[6]\n",
    "                    prediction[7] = prediction[7]+prob[7]\n",
    "            c=c+1\n",
    "        prediction[0] = prediction[0]+math.log(ClassDict[0]/sampleCount)\n",
    "        prediction[1] = prediction[1]+math.log(ClassDict[1]/sampleCount)\n",
    "        prediction[2] = prediction[2]+math.log(ClassDict[2]/sampleCount)\n",
    "        prediction[3] = prediction[3]+math.log(ClassDict[3]/sampleCount)\n",
    "        prediction[4] = prediction[4]+math.log(ClassDict[4]/sampleCount)\n",
    "        prediction[5] = prediction[5]+math.log(ClassDict[5]/sampleCount)\n",
    "        prediction[6] = prediction[6]+math.log(ClassDict[6]/sampleCount)\n",
    "        prediction[7] = prediction[7]+math.log(ClassDict[7]/sampleCount)\n",
    "        predictionMatrix.append(prediction)\n",
    "    f.close()"
   ]
  },
  {
   "cell_type": "code",
   "execution_count": 59,
   "metadata": {
    "collapsed": false,
    "scrolled": true
   },
   "outputs": [
    {
     "name": "stdout",
     "output_type": "stream",
     "text": [
      "[[-6377.87343512]\n",
      " [-6302.96492584]\n",
      " [-6909.35259204]\n",
      " [-6565.7049638 ]\n",
      " [-7901.47015859]\n",
      " [-7405.1335676 ]\n",
      " [-7014.40410258]\n",
      " [-7563.85494205]]\n"
     ]
    }
   ],
   "source": [
    "print(predictionMatrix[0])"
   ]
  },
  {
   "cell_type": "code",
   "execution_count": 60,
   "metadata": {
    "collapsed": false
   },
   "outputs": [
    {
     "data": {
      "text/plain": [
       "matrix([[-6377.87343512]])"
      ]
     },
     "execution_count": 60,
     "metadata": {},
     "output_type": "execute_result"
    }
   ],
   "source": [
    "predictionMatrix[0][0]"
   ]
  },
  {
   "cell_type": "code",
   "execution_count": 61,
   "metadata": {
    "collapsed": false
   },
   "outputs": [],
   "source": [
    "Output = []\n",
    "for i in range(0,len(predictionMatrix)):\n",
    "    o = 'NA'\n",
    "    m = max(predictionMatrix[i])\n",
    "    if(m==predictionMatrix[i][0]):\n",
    "        o='trade'\n",
    "    if(m==predictionMatrix[i][1]):\n",
    "        o='acq'\n",
    "    if(m==predictionMatrix[i][2]):\n",
    "        o='crude'\n",
    "    if(m==predictionMatrix[i][3]):\n",
    "        o='earn'\n",
    "    if(m==predictionMatrix[i][4]):\n",
    "        o='grain'\n",
    "    if(m==predictionMatrix[i][5]):\n",
    "        o='interest'\n",
    "    if(m==predictionMatrix[i][6]):\n",
    "        o='money-fx'\n",
    "    if(m==predictionMatrix[i][7]):\n",
    "        o='ship'\n",
    "    Output.append(o)"
   ]
  },
  {
   "cell_type": "code",
   "execution_count": 22,
   "metadata": {
    "collapsed": false,
    "scrolled": false
   },
   "outputs": [],
   "source": [
    "text_file = open(\"OutputTest-new.txt\", \"w\")\n",
    "for k in range(0,len(Output)):\n",
    "    text_file.write(Output[k]+'\\n')\n",
    "text_file.close()"
   ]
  },
  {
   "cell_type": "code",
   "execution_count": 62,
   "metadata": {
    "collapsed": false
   },
   "outputs": [],
   "source": [
    "ConfusionMatrix = np.zeros(shape=(8,8),dtype=int)"
   ]
  },
  {
   "cell_type": "code",
   "execution_count": 63,
   "metadata": {
    "collapsed": false
   },
   "outputs": [
    {
     "data": {
      "text/plain": [
       "array([[0, 0, 0, 0, 0, 0, 0, 0],\n",
       "       [0, 0, 0, 0, 0, 0, 0, 0],\n",
       "       [0, 0, 0, 0, 0, 0, 0, 0],\n",
       "       [0, 0, 0, 0, 0, 0, 0, 0],\n",
       "       [0, 0, 0, 0, 0, 0, 0, 0],\n",
       "       [0, 0, 0, 0, 0, 0, 0, 0],\n",
       "       [0, 0, 0, 0, 0, 0, 0, 0],\n",
       "       [0, 0, 0, 0, 0, 0, 0, 0]])"
      ]
     },
     "execution_count": 63,
     "metadata": {},
     "output_type": "execute_result"
    }
   ],
   "source": [
    "ConfusionMatrix"
   ]
  },
  {
   "cell_type": "code",
   "execution_count": 64,
   "metadata": {
    "collapsed": false,
    "scrolled": true
   },
   "outputs": [
    {
     "data": {
      "text/plain": [
       "0"
      ]
     },
     "execution_count": 64,
     "metadata": {},
     "output_type": "execute_result"
    }
   ],
   "source": [
    "ConfusionMatrix[ClassNumber[outputClass[0]],ClassNumber[Output[0]]]"
   ]
  },
  {
   "cell_type": "code",
   "execution_count": 65,
   "metadata": {
    "collapsed": false
   },
   "outputs": [],
   "source": [
    "for k in range(0,len(Output)):\n",
    "    val = ConfusionMatrix[ClassNumber[outputClass[k]],ClassNumber[Output[k]]]\n",
    "    val=val+1\n",
    "    ConfusionMatrix[ClassNumber[outputClass[k]],ClassNumber[Output[k]]] = val"
   ]
  },
  {
   "cell_type": "code",
   "execution_count": 66,
   "metadata": {
    "collapsed": false
   },
   "outputs": [
    {
     "name": "stdout",
     "output_type": "stream",
     "text": [
      "[[  13   46    0   16    0    0    0    0]\n",
      " [   0  694    0    2    0    0    0    0]\n",
      " [   0   60   48   13    0    0    0    0]\n",
      " [   0   24    0 1059    0    0    0    0]\n",
      " [   0    6    0    4    0    0    0    0]\n",
      " [   1   58    0   14    0    6    2    0]\n",
      " [   1   64    0   12    0    0   10    0]\n",
      " [   0   34    1    1    0    0    0    0]]\n"
     ]
    }
   ],
   "source": [
    "print(ConfusionMatrix)"
   ]
  },
  {
   "cell_type": "code",
   "execution_count": 102,
   "metadata": {
    "collapsed": false
   },
   "outputs": [],
   "source": [
    "correct = 0\n",
    "wrong = 0\n",
    "for k in range(0,len(Output)):\n",
    "    if(Output[k]==outputClass[k]):\n",
    "        correct = correct + 1\n",
    "    else:\n",
    "        wrong = wrong +1"
   ]
  },
  {
   "cell_type": "code",
   "execution_count": 103,
   "metadata": {
    "collapsed": false,
    "scrolled": true
   },
   "outputs": [
    {
     "name": "stdout",
     "output_type": "stream",
     "text": [
      "1923\n",
      "266\n"
     ]
    }
   ],
   "source": [
    "print(correct)\n",
    "print(wrong)"
   ]
  }
 ],
 "metadata": {
  "anaconda-cloud": {},
  "kernelspec": {
   "display_name": "Python [conda root]",
   "language": "python",
   "name": "conda-root-py"
  },
  "language_info": {
   "codemirror_mode": {
    "name": "ipython",
    "version": 3
   },
   "file_extension": ".py",
   "mimetype": "text/x-python",
   "name": "python",
   "nbconvert_exporter": "python",
   "pygments_lexer": "ipython3",
   "version": "3.5.2"
  }
 },
 "nbformat": 4,
 "nbformat_minor": 1
}
