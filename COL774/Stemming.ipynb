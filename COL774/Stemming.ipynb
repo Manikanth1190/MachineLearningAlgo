{
 "cells": [
  {
   "cell_type": "code",
   "execution_count": 7,
   "metadata": {
    "collapsed": false
   },
   "outputs": [],
   "source": [
    "from __future__ import print_function\n",
    "from nltk.tokenize import RegexpTokenizer\n",
    "from stop_words import get_stop_words\n",
    "from nltk.stem.porter import PorterStemmer\n",
    "from nltk.corpus import stopwords\n",
    "\n",
    "#initializing stemmer\n",
    "tokenizer = RegexpTokenizer(r'\\w+')\n",
    "en_stop = get_stop_words('en')\n",
    "p_stemmer = PorterStemmer()\n",
    "\n",
    "# function that takes an input file and performs stemming to generate the output file\n",
    "def getStemmedDocument(inputFileName, outputFileName):\n",
    "    with open(inputFileName) as f:\n",
    "        docs = f.readlines()\n",
    "\n",
    "    out = open(outputFileName, 'w')\n",
    "\n",
    "    for doc in docs:\n",
    "        raw = doc.lower()\n",
    "        split = raw.split('\\t', 1)\n",
    "        docClass = split[0]\n",
    "        tokens = tokenizer.tokenize(split[1])\n",
    "        stopped_tokens = [token for token in tokens if token not in en_stop]\n",
    "        stemmed_tokens = [p_stemmer.stem(token) for token in stopped_tokens]\n",
    "        documentWords = ' '.join(stemmed_tokens)\n",
    "        print((docClass + \"\\t\" + documentWords), file=out)\n",
    "\n",
    "    out.close();"
   ]
  },
  {
   "cell_type": "code",
   "execution_count": 10,
   "metadata": {
    "collapsed": true
   },
   "outputs": [],
   "source": [
    "# creates the new stemmed documents with the suffix 'new' for both train and test files\n",
    "getStemmedDocument('r8-train-all-terms.txt', 'r8-train-all-terms-new.txt')\n",
    "getStemmedDocument('r8-test-all-terms.txt', 'r8-test-all-terms-new.txt')"
   ]
  },
  {
   "cell_type": "code",
   "execution_count": null,
   "metadata": {
    "collapsed": true
   },
   "outputs": [],
   "source": []
  }
 ],
 "metadata": {
  "kernelspec": {
   "display_name": "Python [conda root]",
   "language": "python",
   "name": "conda-root-py"
  },
  "language_info": {
   "codemirror_mode": {
    "name": "ipython",
    "version": 3
   },
   "file_extension": ".py",
   "mimetype": "text/x-python",
   "name": "python",
   "nbconvert_exporter": "python",
   "pygments_lexer": "ipython3",
   "version": "3.5.2"
  }
 },
 "nbformat": 4,
 "nbformat_minor": 1
}
